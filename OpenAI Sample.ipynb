{
 "cells": [
  {
   "cell_type": "markdown",
   "id": "64c72ae0",
   "metadata": {},
   "source": [
    "# 1. Text Completion"
   ]
  },
  {
   "cell_type": "code",
   "execution_count": null,
   "id": "4dee4bdc",
   "metadata": {},
   "outputs": [],
   "source": [
    "import os\n",
    "import openai\n",
    "openai.api_key = os.getenv(\"OPENAI_API_KEY\")\n",
    "\n",
    "prompt = \"\"\"\n",
    "Decide whether a Tweet's sentiment is positive, neutral, or negative.\n",
    "\n",
    "Tweet: I didn't like the new Batman movie!\n",
    "Sentiment:\n",
    "\"\"\"\n",
    "\n",
    "response = openai.Completion.create(\n",
    "              model=\"text-davinci-003\",\n",
    "              prompt=prompt,\n",
    "              max_tokens=100,\n",
    "              temperature=0\n",
    "            )\n",
    "\n",
    "print(response)"
   ]
  },
  {
   "cell_type": "markdown",
   "id": "a8180cb2",
   "metadata": {},
   "source": [
    "# 2. Code Completion"
   ]
  },
  {
   "cell_type": "code",
   "execution_count": null,
   "id": "23e0a6d0",
   "metadata": {},
   "outputs": [],
   "source": [
    "import os\n",
    "import openai\n",
    "\n",
    "openai.api_key = os.getenv(\"OPENAI_API_KEY\")\n",
    "\n",
    "response = openai.Completion.create(\n",
    "  model=\"code-davinci-002\",\n",
    "  prompt=\"\\\"\\\"\\\"\\nCreate an array of weather temperatures for Los Angeles\\n\\\"\\\"\\\"\",\n",
    "  temperature=0,\n",
    "  max_tokens=256,\n",
    "  top_p=1,\n",
    "  frequency_penalty=0,\n",
    "  presence_penalty=0\n",
    ")\n",
    "\n",
    "print(response)"
   ]
  },
  {
   "cell_type": "markdown",
   "id": "4793ad10",
   "metadata": {},
   "source": [
    "# 3. Image Generation"
   ]
  },
  {
   "cell_type": "code",
   "execution_count": null,
   "id": "729a273b",
   "metadata": {},
   "outputs": [],
   "source": [
    "import openai\n",
    "\n",
    "response = openai.Image.create(\n",
    "  prompt=\"A fluffy white cat with blue eyes sitting in a basket of flowers, looking up adorably at the camera\",\n",
    "  n=1,\n",
    "  size=\"1024x1024\"\n",
    ")\n",
    "image_url = response['data'][0]['url']\n",
    "print(image_url)"
   ]
  },
  {
   "cell_type": "code",
   "execution_count": null,
   "id": "fe9ee84f",
   "metadata": {},
   "outputs": [],
   "source": [
    "import os\n",
    "import openai\n",
    "openai.api_key = os.getenv(\"OPENAI_API_KEY\")\n",
    "\n",
    "prompt = \"\"\"\n",
    "Give me 50 best sounding indian girl names\n",
    "\"\"\"\n",
    "\n",
    "response = openai.Completion.create(\n",
    "              model=\"text-davinci-003\",\n",
    "              prompt=prompt,\n",
    "              max_tokens=2000,\n",
    "              temperature=0\n",
    "            )\n",
    "\n",
    "print(response)"
   ]
  },
  {
   "cell_type": "code",
   "execution_count": null,
   "id": "294912a5",
   "metadata": {},
   "outputs": [],
   "source": []
  }
 ],
 "metadata": {
  "kernelspec": {
   "display_name": "Python 3 (ipykernel)",
   "language": "python",
   "name": "python3"
  },
  "language_info": {
   "codemirror_mode": {
    "name": "ipython",
    "version": 3
   },
   "file_extension": ".py",
   "mimetype": "text/x-python",
   "name": "python",
   "nbconvert_exporter": "python",
   "pygments_lexer": "ipython3",
   "version": "3.8.16"
  }
 },
 "nbformat": 4,
 "nbformat_minor": 5
}
